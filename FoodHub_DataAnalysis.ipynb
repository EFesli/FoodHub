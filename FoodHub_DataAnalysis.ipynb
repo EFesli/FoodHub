{
  "cells": [
    {
      "cell_type": "markdown",
      "metadata": {
        "id": "Gc8x8QimJY_H"
      },
      "source": [
        "# Project Python Foundations: FoodHub Data Analysis\n",
        "\n",
        "**Marks: 60**"
      ]
    },
    {
      "cell_type": "markdown",
      "metadata": {
        "id": "NqikjkWwJY_L"
      },
      "source": [
        "### Context\n",
        "\n",
        "The number of restaurants in New York is increasing day by day. Lots of students and busy professionals rely on those restaurants due to their hectic lifestyles. Online food delivery service is a great option for them. It provides them with good food from their favorite restaurants. A food aggregator company FoodHub offers access to multiple restaurants through a single smartphone app.\n",
        "\n",
        "The app allows the restaurants to receive a direct online order from a customer. The app assigns a delivery person from the company to pick up the order after it is confirmed by the restaurant. The delivery person then uses the map to reach the restaurant and waits for the food package. Once the food package is handed over to the delivery person, he/she confirms the pick-up in the app and travels to the customer's location to deliver the food. The delivery person confirms the drop-off in the app after delivering the food package to the customer. The customer can rate the order in the app. The food aggregator earns money by collecting a fixed margin of the delivery order from the restaurants.\n",
        "\n",
        "### Objective\n",
        "\n",
        "The food aggregator company has stored the data of the different orders made by the registered customers in their online portal. They want to analyze the data to get a fair idea about the demand of different restaurants which will help them in enhancing their customer experience. Suppose you are hired as a Data Scientist in this company and the Data Science team has shared some of the key questions that need to be answered. Perform the data analysis to find answers to these questions that will help the company to improve the business.\n",
        "\n",
        "### Data Description\n",
        "\n",
        "The data contains the different data related to a food order. The detailed data dictionary is given below.\n",
        "\n",
        "### Data Dictionary\n",
        "\n",
        "* order_id: Unique ID of the order\n",
        "* customer_id: ID of the customer who ordered the food\n",
        "* restaurant_name: Name of the restaurant\n",
        "* cuisine_type: Cuisine ordered by the customer\n",
        "* cost: Cost of the order\n",
        "* day_of_the_week: Indicates whether the order is placed on a weekday or weekend (The weekday is from Monday to Friday and the weekend is Saturday and Sunday)\n",
        "* rating: Rating given by the customer out of 5\n",
        "* food_preparation_time: Time (in minutes) taken by the restaurant to prepare the food. This is calculated by taking the difference between the timestamps of the restaurant's order confirmation and the delivery person's pick-up confirmation.\n",
        "* delivery_time: Time (in minutes) taken by the delivery person to deliver the food package. This is calculated by taking the difference between the timestamps of the delivery person's pick-up confirmation and drop-off information"
      ]
    },
    {
      "cell_type": "markdown",
      "metadata": {
        "id": "cEtNUxNAJY_M"
      },
      "source": [
        "### Let us start by importing the required libraries"
      ]
    },
    {
      "cell_type": "code",
      "execution_count": 4,
      "metadata": {
        "id": "u6PlpJAPJY_N"
      },
      "outputs": [],
      "source": [
        "# import libraries for data manipulation\n",
        "import numpy as np\n",
        "import pandas as pd\n",
        "\n",
        "# import libraries for data visualization\n",
        "import matplotlib.pyplot as plt\n",
        "import seaborn as sns\n",
        "# to restrict the float value to 3 decimal places\n",
        "pd.set_option('display.float_format', lambda x: '%.3f' % x)"
      ]
    },
    {
      "cell_type": "markdown",
      "metadata": {
        "id": "AdracY0HJY_O"
      },
      "source": [
        "### Understanding the structure of the data"
      ]
    },
    {
      "cell_type": "code",
      "execution_count": 5,
      "metadata": {
        "colab": {
          "base_uri": "https://localhost:8080/",
          "height": 206
        },
        "id": "XkOep6bIly0B",
        "outputId": "36c5d9f8-2299-4398-ab6f-38284d5c802f"
      },
      "outputs": [
        {
          "data": {
            "text/html": [
              "<div>\n",
              "<style scoped>\n",
              "    .dataframe tbody tr th:only-of-type {\n",
              "        vertical-align: middle;\n",
              "    }\n",
              "\n",
              "    .dataframe tbody tr th {\n",
              "        vertical-align: top;\n",
              "    }\n",
              "\n",
              "    .dataframe thead th {\n",
              "        text-align: right;\n",
              "    }\n",
              "</style>\n",
              "<table border=\"1\" class=\"dataframe\">\n",
              "  <thead>\n",
              "    <tr style=\"text-align: right;\">\n",
              "      <th></th>\n",
              "      <th>order_id</th>\n",
              "      <th>customer_id</th>\n",
              "      <th>restaurant_name</th>\n",
              "      <th>cuisine_type</th>\n",
              "      <th>cost_of_the_order</th>\n",
              "      <th>day_of_the_week</th>\n",
              "      <th>rating</th>\n",
              "      <th>food_preparation_time</th>\n",
              "      <th>delivery_time</th>\n",
              "    </tr>\n",
              "  </thead>\n",
              "  <tbody>\n",
              "    <tr>\n",
              "      <th>0</th>\n",
              "      <td>1477147</td>\n",
              "      <td>337525</td>\n",
              "      <td>Hangawi</td>\n",
              "      <td>Korean</td>\n",
              "      <td>30.750</td>\n",
              "      <td>Weekend</td>\n",
              "      <td>Not given</td>\n",
              "      <td>25</td>\n",
              "      <td>20</td>\n",
              "    </tr>\n",
              "    <tr>\n",
              "      <th>1</th>\n",
              "      <td>1477685</td>\n",
              "      <td>358141</td>\n",
              "      <td>Blue Ribbon Sushi Izakaya</td>\n",
              "      <td>Japanese</td>\n",
              "      <td>12.080</td>\n",
              "      <td>Weekend</td>\n",
              "      <td>Not given</td>\n",
              "      <td>25</td>\n",
              "      <td>23</td>\n",
              "    </tr>\n",
              "    <tr>\n",
              "      <th>2</th>\n",
              "      <td>1477070</td>\n",
              "      <td>66393</td>\n",
              "      <td>Cafe Habana</td>\n",
              "      <td>Mexican</td>\n",
              "      <td>12.230</td>\n",
              "      <td>Weekday</td>\n",
              "      <td>5</td>\n",
              "      <td>23</td>\n",
              "      <td>28</td>\n",
              "    </tr>\n",
              "    <tr>\n",
              "      <th>3</th>\n",
              "      <td>1477334</td>\n",
              "      <td>106968</td>\n",
              "      <td>Blue Ribbon Fried Chicken</td>\n",
              "      <td>American</td>\n",
              "      <td>29.200</td>\n",
              "      <td>Weekend</td>\n",
              "      <td>3</td>\n",
              "      <td>25</td>\n",
              "      <td>15</td>\n",
              "    </tr>\n",
              "    <tr>\n",
              "      <th>4</th>\n",
              "      <td>1478249</td>\n",
              "      <td>76942</td>\n",
              "      <td>Dirty Bird to Go</td>\n",
              "      <td>American</td>\n",
              "      <td>11.590</td>\n",
              "      <td>Weekday</td>\n",
              "      <td>4</td>\n",
              "      <td>25</td>\n",
              "      <td>24</td>\n",
              "    </tr>\n",
              "  </tbody>\n",
              "</table>\n",
              "</div>"
            ],
            "text/plain": [
              "   order_id  customer_id            restaurant_name cuisine_type  \\\n",
              "0   1477147       337525                    Hangawi       Korean   \n",
              "1   1477685       358141  Blue Ribbon Sushi Izakaya     Japanese   \n",
              "2   1477070        66393                Cafe Habana      Mexican   \n",
              "3   1477334       106968  Blue Ribbon Fried Chicken     American   \n",
              "4   1478249        76942           Dirty Bird to Go     American   \n",
              "\n",
              "   cost_of_the_order day_of_the_week     rating  food_preparation_time  \\\n",
              "0             30.750         Weekend  Not given                     25   \n",
              "1             12.080         Weekend  Not given                     25   \n",
              "2             12.230         Weekday          5                     23   \n",
              "3             29.200         Weekend          3                     25   \n",
              "4             11.590         Weekday          4                     25   \n",
              "\n",
              "   delivery_time  \n",
              "0             20  \n",
              "1             23  \n",
              "2             28  \n",
              "3             15  \n",
              "4             24  "
            ]
          },
          "execution_count": 5,
          "metadata": {},
          "output_type": "execute_result"
        }
      ],
      "source": [
        "# read the data\n",
        "import io\n",
        "df = pd.read_csv('foodhub_order.csv')\n",
        "# Dataset is now stored in a Pandas Dataframe\n",
        "# returns the first 5 rows\n",
        "df.head()"
      ]
    },
    {
      "cell_type": "markdown",
      "metadata": {
        "id": "J_Y9aJDJJY_P"
      },
      "source": [
        "#### Observations:\n",
        "\n",
        "*   The DataFrame has 9 columns as mentioned in the Data Dictionary.\n",
        "\n",
        "*   Data in each row corresponds to the order placed by a customer.\n",
        "\n",
        "*   The *order_id* column contains the unique order id for each\n",
        "order of the customer.\n",
        "\n",
        "*  The *customer_id* column contains id number for each customer who ordered food.\n",
        "\n",
        "\n",
        "*  The *restaurant_name* column contains names of the restaurant where the food is ordered.\n",
        "\n",
        "*  The *day_of_the_week* column indicates whether the order is placed on weekdays or weekend.\n",
        "\n",
        "*  The *cusine_type* column contain the names of the cusine ordered by customer.\n",
        "\n",
        "*   Food_preparion_time and delivery_time are given in minutes.\n",
        "\n",
        "*   Food_preparion_time and delivery_time are given in minutes.\n",
        "\n",
        "\n",
        "\n",
        "\n",
        "\n",
        "\n",
        "\n"
      ]
    },
    {
      "cell_type": "markdown",
      "metadata": {
        "id": "c3kenV4vJY_Q"
      },
      "source": [
        "### **Question 1:** How many rows and columns are present in the data? [0.5 mark]"
      ]
    },
    {
      "cell_type": "code",
      "execution_count": 6,
      "metadata": {
        "id": "Yvz5i-PhJY_Q"
      },
      "outputs": [
        {
          "data": {
            "text/plain": [
              "(1898, 9)"
            ]
          },
          "execution_count": 6,
          "metadata": {},
          "output_type": "execute_result"
        }
      ],
      "source": [
        "# returns the number of rows by the number of columns\n",
        "df.shape"
      ]
    },
    {
      "cell_type": "markdown",
      "metadata": {
        "id": "UsTNy3unJY_R"
      },
      "source": [
        "#### Observations:\n",
        "\n",
        "\n",
        "*   The dataset has 1898 rows and 9 columns.\n",
        "\n",
        "\n"
      ]
    },
    {
      "cell_type": "markdown",
      "metadata": {
        "id": "jRXakVrUJY_R"
      },
      "source": [
        "### **Question 2:** What are the datatypes of the different columns in the dataset? (The info() function can be used) [0.5 mark]"
      ]
    },
    {
      "cell_type": "code",
      "execution_count": 7,
      "metadata": {
        "colab": {
          "base_uri": "https://localhost:8080/"
        },
        "id": "Kp70Z0BNJY_R",
        "outputId": "4c7797b0-2207-4c50-bc9b-9c8d871357d9"
      },
      "outputs": [
        {
          "name": "stdout",
          "output_type": "stream",
          "text": [
            "<class 'pandas.core.frame.DataFrame'>\n",
            "RangeIndex: 1898 entries, 0 to 1897\n",
            "Data columns (total 9 columns):\n",
            " #   Column                 Non-Null Count  Dtype  \n",
            "---  ------                 --------------  -----  \n",
            " 0   order_id               1898 non-null   int64  \n",
            " 1   customer_id            1898 non-null   int64  \n",
            " 2   restaurant_name        1898 non-null   object \n",
            " 3   cuisine_type           1898 non-null   object \n",
            " 4   cost_of_the_order      1898 non-null   float64\n",
            " 5   day_of_the_week        1898 non-null   object \n",
            " 6   rating                 1898 non-null   object \n",
            " 7   food_preparation_time  1898 non-null   int64  \n",
            " 8   delivery_time          1898 non-null   int64  \n",
            "dtypes: float64(1), int64(4), object(4)\n",
            "memory usage: 133.6+ KB\n"
          ]
        }
      ],
      "source": [
        "# print a concise summary of the DataFrame\n",
        "df.info()"
      ]
    },
    {
      "cell_type": "markdown",
      "metadata": {
        "id": "WJes5GP2JY_S"
      },
      "source": [
        "\n",
        "#### Observations:\n",
        "\n",
        "\n",
        "\n",
        "*  There are 5 numerical columns, 4 object type colums in the data.\n",
        "*   All columns have 1898 observations which represent that there is no missing value with in the data.\n",
        "*   The rating column is being read as an \"object\" data type which should be numerical.\n",
        "*   The restaurant_name, cuisine_type and day_of_the_week columns are of object type while other colums are numerical.\n",
        "*   The object columns contain categorical data.\n"
      ]
    },
    {
      "cell_type": "markdown",
      "metadata": {
        "id": "pF_92MN6JY_S"
      },
      "source": [
        "### **Question 3:** Are there any missing values in the data? If yes, treat them using an appropriate method. [1 mark]"
      ]
    },
    {
      "cell_type": "code",
      "execution_count": 8,
      "metadata": {
        "colab": {
          "base_uri": "https://localhost:8080/"
        },
        "id": "Zth-RR1PJY_S",
        "outputId": "c2f4f51f-9145-4eeb-f201-98d4d757536b"
      },
      "outputs": [
        {
          "data": {
            "text/plain": [
              "order_id                 0\n",
              "customer_id              0\n",
              "restaurant_name          0\n",
              "cuisine_type             0\n",
              "cost_of_the_order        0\n",
              "day_of_the_week          0\n",
              "rating                   0\n",
              "food_preparation_time    0\n",
              "delivery_time            0\n",
              "dtype: int64"
            ]
          },
          "execution_count": 8,
          "metadata": {},
          "output_type": "execute_result"
        }
      ],
      "source": [
        "# check missing values across each columns\n",
        "df.isnull().sum()"
      ]
    },
    {
      "cell_type": "markdown",
      "metadata": {
        "id": "jDHT3vD1JY_S"
      },
      "source": [
        "#### Observations:\n",
        "There is no any missing value in data."
      ]
    },
    {
      "cell_type": "code",
      "execution_count": 9,
      "metadata": {
        "colab": {
          "base_uri": "https://localhost:8080/"
        },
        "id": "Fb5YWjRnrnRh",
        "outputId": "f4765a6a-3578-4578-84d5-1979daba2f7b"
      },
      "outputs": [
        {
          "data": {
            "text/plain": [
              "array(['Not given', '5', '3', '4'], dtype=object)"
            ]
          },
          "execution_count": 9,
          "metadata": {},
          "output_type": "execute_result"
        }
      ],
      "source": [
        "# see why the data type of rating column has object data type\n",
        "df['rating'].unique()"
      ]
    },
    {
      "cell_type": "code",
      "execution_count": 10,
      "metadata": {
        "colab": {
          "base_uri": "https://localhost:8080/"
        },
        "id": "DCHvZeb5sNDb",
        "outputId": "fd8ec0b8-b571-427e-a75e-5ceab1d97956"
      },
      "outputs": [
        {
          "data": {
            "text/plain": [
              "rating\n",
              "Not given    736\n",
              "5            588\n",
              "4            386\n",
              "3            188\n",
              "Name: count, dtype: int64"
            ]
          },
          "execution_count": 10,
          "metadata": {},
          "output_type": "execute_result"
        }
      ],
      "source": [
        "# check number of different types in rating column\n",
        "df['rating'].value_counts()"
      ]
    },
    {
      "cell_type": "code",
      "execution_count": 11,
      "metadata": {
        "colab": {
          "base_uri": "https://localhost:8080/"
        },
        "id": "iT67e1F2sXrh",
        "outputId": "a844a1ad-39ec-4d86-9e2c-aea851de128f"
      },
      "outputs": [
        {
          "data": {
            "text/plain": [
              "rating\n",
              "<class 'str'>    1898\n",
              "Name: count, dtype: int64"
            ]
          },
          "execution_count": 11,
          "metadata": {},
          "output_type": "execute_result"
        }
      ],
      "source": [
        "# check the count of different data types in rating column\n",
        "df['rating'].apply(type).value_counts()"
      ]
    },
    {
      "cell_type": "markdown",
      "metadata": {
        "id": "rXjY-APstn3y"
      },
      "source": [
        "Observations:\n",
        "\n",
        "There are 736 'Not given' string data type in rating column.\n"
      ]
    },
    {
      "cell_type": "markdown",
      "metadata": {
        "id": "qwP7w7YMtHpS"
      },
      "source": [
        "Lets replace these values by null values."
      ]
    },
    {
      "cell_type": "code",
      "execution_count": 12,
      "metadata": {
        "id": "WB-mQNRCtgbN"
      },
      "outputs": [],
      "source": [
        "# replace 'Not given' values by nan\n",
        "df['rating']=df['rating'].replace(['Not given'],np.nan)\n",
        "# change data type to numeric\n",
        "df['rating']=df['rating'].astype(float)"
      ]
    },
    {
      "cell_type": "code",
      "execution_count": 13,
      "metadata": {
        "colab": {
          "base_uri": "https://localhost:8080/"
        },
        "id": "9ASUMkACu43E",
        "outputId": "086aeda1-6b4a-40e6-f5f3-3463a05f34b6"
      },
      "outputs": [
        {
          "name": "stdout",
          "output_type": "stream",
          "text": [
            "<class 'pandas.core.frame.DataFrame'>\n",
            "RangeIndex: 1898 entries, 0 to 1897\n",
            "Data columns (total 9 columns):\n",
            " #   Column                 Non-Null Count  Dtype  \n",
            "---  ------                 --------------  -----  \n",
            " 0   order_id               1898 non-null   int64  \n",
            " 1   customer_id            1898 non-null   int64  \n",
            " 2   restaurant_name        1898 non-null   object \n",
            " 3   cuisine_type           1898 non-null   object \n",
            " 4   cost_of_the_order      1898 non-null   float64\n",
            " 5   day_of_the_week        1898 non-null   object \n",
            " 6   rating                 1162 non-null   float64\n",
            " 7   food_preparation_time  1898 non-null   int64  \n",
            " 8   delivery_time          1898 non-null   int64  \n",
            "dtypes: float64(2), int64(4), object(3)\n",
            "memory usage: 133.6+ KB\n"
          ]
        }
      ],
      "source": [
        "# lets check the data type of the columns again.\n",
        "df.info()"
      ]
    },
    {
      "cell_type": "markdown",
      "metadata": {
        "id": "OSY_NCjbtXc3"
      },
      "source": [
        "Now, the data type in 'rating' column changed to numeric."
      ]
    },
    {
      "cell_type": "markdown",
      "metadata": {
        "id": "MnJo7MWrJY_S"
      },
      "source": [
        "### **Question 4:** Check the statistical summary of the data. What is the minimum, average, and maximum time it takes for food to be prepared once an order is placed? [2 marks]"
      ]
    },
    {
      "cell_type": "code",
      "execution_count": 14,
      "metadata": {
        "colab": {
          "base_uri": "https://localhost:8080/",
          "height": 237
        },
        "id": "WprQBgOSJY_T",
        "outputId": "f8578b40-4f59-47e0-cd30-8d21508a1ad0"
      },
      "outputs": [
        {
          "data": {
            "text/html": [
              "<div>\n",
              "<style scoped>\n",
              "    .dataframe tbody tr th:only-of-type {\n",
              "        vertical-align: middle;\n",
              "    }\n",
              "\n",
              "    .dataframe tbody tr th {\n",
              "        vertical-align: top;\n",
              "    }\n",
              "\n",
              "    .dataframe thead th {\n",
              "        text-align: right;\n",
              "    }\n",
              "</style>\n",
              "<table border=\"1\" class=\"dataframe\">\n",
              "  <thead>\n",
              "    <tr style=\"text-align: right;\">\n",
              "      <th></th>\n",
              "      <th>count</th>\n",
              "      <th>mean</th>\n",
              "      <th>std</th>\n",
              "      <th>min</th>\n",
              "      <th>25%</th>\n",
              "      <th>50%</th>\n",
              "      <th>75%</th>\n",
              "      <th>max</th>\n",
              "    </tr>\n",
              "  </thead>\n",
              "  <tbody>\n",
              "    <tr>\n",
              "      <th>order_id</th>\n",
              "      <td>1898.000</td>\n",
              "      <td>1477495.500</td>\n",
              "      <td>548.050</td>\n",
              "      <td>1476547.000</td>\n",
              "      <td>1477021.250</td>\n",
              "      <td>1477495.500</td>\n",
              "      <td>1477969.750</td>\n",
              "      <td>1478444.000</td>\n",
              "    </tr>\n",
              "    <tr>\n",
              "      <th>customer_id</th>\n",
              "      <td>1898.000</td>\n",
              "      <td>171168.478</td>\n",
              "      <td>113698.140</td>\n",
              "      <td>1311.000</td>\n",
              "      <td>77787.750</td>\n",
              "      <td>128600.000</td>\n",
              "      <td>270525.000</td>\n",
              "      <td>405334.000</td>\n",
              "    </tr>\n",
              "    <tr>\n",
              "      <th>cost_of_the_order</th>\n",
              "      <td>1898.000</td>\n",
              "      <td>16.499</td>\n",
              "      <td>7.484</td>\n",
              "      <td>4.470</td>\n",
              "      <td>12.080</td>\n",
              "      <td>14.140</td>\n",
              "      <td>22.297</td>\n",
              "      <td>35.410</td>\n",
              "    </tr>\n",
              "    <tr>\n",
              "      <th>rating</th>\n",
              "      <td>1162.000</td>\n",
              "      <td>4.344</td>\n",
              "      <td>0.741</td>\n",
              "      <td>3.000</td>\n",
              "      <td>4.000</td>\n",
              "      <td>5.000</td>\n",
              "      <td>5.000</td>\n",
              "      <td>5.000</td>\n",
              "    </tr>\n",
              "    <tr>\n",
              "      <th>food_preparation_time</th>\n",
              "      <td>1898.000</td>\n",
              "      <td>27.372</td>\n",
              "      <td>4.632</td>\n",
              "      <td>20.000</td>\n",
              "      <td>23.000</td>\n",
              "      <td>27.000</td>\n",
              "      <td>31.000</td>\n",
              "      <td>35.000</td>\n",
              "    </tr>\n",
              "    <tr>\n",
              "      <th>delivery_time</th>\n",
              "      <td>1898.000</td>\n",
              "      <td>24.162</td>\n",
              "      <td>4.973</td>\n",
              "      <td>15.000</td>\n",
              "      <td>20.000</td>\n",
              "      <td>25.000</td>\n",
              "      <td>28.000</td>\n",
              "      <td>33.000</td>\n",
              "    </tr>\n",
              "  </tbody>\n",
              "</table>\n",
              "</div>"
            ],
            "text/plain": [
              "                         count        mean        std         min         25%  \\\n",
              "order_id              1898.000 1477495.500    548.050 1476547.000 1477021.250   \n",
              "customer_id           1898.000  171168.478 113698.140    1311.000   77787.750   \n",
              "cost_of_the_order     1898.000      16.499      7.484       4.470      12.080   \n",
              "rating                1162.000       4.344      0.741       3.000       4.000   \n",
              "food_preparation_time 1898.000      27.372      4.632      20.000      23.000   \n",
              "delivery_time         1898.000      24.162      4.973      15.000      20.000   \n",
              "\n",
              "                              50%         75%         max  \n",
              "order_id              1477495.500 1477969.750 1478444.000  \n",
              "customer_id            128600.000  270525.000  405334.000  \n",
              "cost_of_the_order          14.140      22.297      35.410  \n",
              "rating                      5.000       5.000       5.000  \n",
              "food_preparation_time      27.000      31.000      35.000  \n",
              "delivery_time              25.000      28.000      33.000  "
            ]
          },
          "execution_count": 14,
          "metadata": {},
          "output_type": "execute_result"
        }
      ],
      "source": [
        "# check statistical summary of the data\n",
        "df.describe().T"
      ]
    },
    {
      "cell_type": "markdown",
      "metadata": {
        "id": "9YbSOR5wJY_T"
      },
      "source": [
        "#### Observations:\n",
        "\n",
        "\n",
        "* cost_of_the_order: The average cost for the orders is \\$16.499 where minimum\n",
        "value is \\$4.470 and maximum value is  $35.410.\n",
        "\n",
        "75% of the orders cost less than $ 22.297. There is a wide range for the cost of the orders from 4 to 35 that indicates there might be outliers present in this column.\n",
        "\n",
        "\n",
        "*  rating: The average of ratings is 4.34 over 5. More than 50% of the customers rated 5. The minimum value for rating is 3.\n",
        "\n",
        "*  food_preparation_time:  For food to be prepared once an order is placed, Minimum time taken is 20 min, average time taken is 27.37 min, and maximum time taken is 35 min.\n",
        "\n",
        "*  delivery_time: Average delivery time is 24.162 min.75% of the orders take more than 20 min to deliver.\n",
        "\n",
        "*  Although, data type of 'order_id' and 'customer_id' are numerical, we can assume them as categorical data due to their definition and nature. Therefore, statistical summary for these columns do not give us valuable insights.\n",
        "\n",
        "\n",
        "\n"
      ]
    },
    {
      "cell_type": "markdown",
      "metadata": {
        "id": "cw3l58z_JY_T"
      },
      "source": [
        "### **Question 5:** How many orders are not rated? [1 mark]"
      ]
    },
    {
      "cell_type": "code",
      "execution_count": 15,
      "metadata": {
        "colab": {
          "base_uri": "https://localhost:8080/"
        },
        "id": "hEzDUL9wgksi",
        "outputId": "f4f7d65b-dd38-4d8c-b0fd-7bd812f8e4ec"
      },
      "outputs": [
        {
          "data": {
            "text/plain": [
              "736"
            ]
          },
          "execution_count": 15,
          "metadata": {},
          "output_type": "execute_result"
        }
      ],
      "source": [
        "# find NaN values in 'rating' column\n",
        "df['rating'].isna().sum()"
      ]
    },
    {
      "cell_type": "markdown",
      "metadata": {
        "id": "5E0O_oviJY_T"
      },
      "source": [
        "#### Observations:\n",
        "There are 736 orders out of 1898 that are not rated. Almost 39% of the customers did not rate their experience. This information suggest that our analysis related to rating might not be highly accurate, considering pretty a large valume of the customer have not rated.\n"
      ]
    },
    {
      "cell_type": "markdown",
      "metadata": {
        "id": "7msIfXE-JY_T"
      },
      "source": [
        "### Exploratory Data Analysis (EDA)"
      ]
    },
    {
      "cell_type": "markdown",
      "metadata": {
        "id": "-2xfI28YJY_T"
      },
      "source": [
        "### Univariate Analysis"
      ]
    },
    {
      "cell_type": "markdown",
      "metadata": {
        "id": "0RHZnugBJY_U"
      },
      "source": [
        "### **Question 6:** Explore all the variables and provide observations on their distributions. (Generally, histograms, boxplots, countplots, etc. are used for univariate exploration.) [9 marks]"
      ]
    },
    {
      "cell_type": "markdown",
      "metadata": {
        "id": "dxIFmDL_XUKE"
      },
      "source": [
        "Lets check the distribution for columns that has numerical data first!"
      ]
    },
    {
      "cell_type": "markdown",
      "metadata": {
        "id": "DL4arE3lBcOP"
      },
      "source": [
        "**Observations on Cost of the Order**"
      ]
    },
    {
      "cell_type": "code",
      "execution_count": 16,
      "metadata": {
        "colab": {
          "base_uri": "https://localhost:8080/",
          "height": 898
        },
        "id": "lm6TWy6PBwgn",
        "outputId": "79e71566-d08c-45ba-81ee-73dcd99be9c7"
      },
      "outputs": [
        {
          "data": {
            "image/png": "[encoded data removed]",
            "text/plain": [
              "<Figure size 1000x500 with 1 Axes>"
            ]
          },
          "metadata": {},
          "output_type": "display_data"
        },
        {
          "data": {
            "image/png": "[encoded data removed]",
            "text/plain": [
              "<Figure size 640x480 with 1 Axes>"
            ]
          },
          "metadata": {},
          "output_type": "display_data"
        }
      ],
      "source": [
        "plt.figure(figsize = (10,5))\n",
        "sns.histplot(data=df,x='cost_of_the_order')\n",
        "plt.show()\n",
        "sns.boxplot(data=df,x='cost_of_the_order')\n",
        "plt.show()"
      ]
    },
    {
      "cell_type": "code",
      "execution_count": 17,
      "metadata": {
        "colab": {
          "base_uri": "https://localhost:8080/"
        },
        "id": "4RcsBO-fDRky",
        "outputId": "300383e4-6505-43ae-cac8-674d54707e15"
      },
      "outputs": [
        {
          "data": {
            "text/plain": [
              "0   12.180\n",
              "Name: cost_of_the_order, dtype: float64"
            ]
          },
          "execution_count": 17,
          "metadata": {},
          "output_type": "execute_result"
        }
      ],
      "source": [
        "# lets find the mode\n",
        "df['cost_of_the_order'].mode()"
      ]
    },
    {
      "cell_type": "markdown",
      "metadata": {
        "id": "QMgcO1deCVew"
      },
      "source": [
        "Observations:\n",
        "\n",
        "*  The distribution is skewed towards right.\n",
        "\n",
        "*  There are no outliers.\n",
        "\n",
        "*  The most common cost customers paid is around $12.\n",
        "\n",
        "*  At least 50% of the customers ordered food that cost less than $15.\n",
        "\n"
      ]
    },
    {
      "cell_type": "markdown",
      "metadata": {
        "id": "87PHxsAQPMoY"
      },
      "source": [
        "**Observations on Ratings**"
      ]
    },
    {
      "cell_type": "code",
      "execution_count": 18,
      "metadata": {
        "colab": {
          "base_uri": "https://localhost:8080/",
          "height": 881
        },
        "id": "-248TQCwPbRd",
        "outputId": "b30e46ff-df27-4cf1-f205-dcca8cd7bfbb"
      },
      "outputs": [
        {
          "data": {
            "image/png": "[encoded data removed]",
            "text/plain": [
              "<Figure size 640x480 with 1 Axes>"
            ]
          },
          "metadata": {},
          "output_type": "display_data"
        },
        {
          "data": {
            "image/png": "[encoded data removed]",
            "text/plain": [
              "<Figure size 640x480 with 1 Axes>"
            ]
          },
          "metadata": {},
          "output_type": "display_data"
        }
      ],
      "source": [
        "sns.countplot(data=df,x='rating')\n",
        "plt.show()\n",
        "sns.boxplot(data=df,x='rating')\n",
        "plt.show()"
      ]
    },
    {
      "cell_type": "markdown",
      "metadata": {
        "id": "Sa_Aa3_dPvho"
      },
      "source": [
        "Observations:\n",
        "\n",
        "\n",
        "*   The distribution skewed to the left.\n",
        "\n",
        "*   The rating most given is 5 over 5.\n",
        "\n",
        "*   At least, 75% of the customers, who rated, rated 4 and 5.\n",
        "\n",
        "\n",
        "*   There are no customers who rated less than 3 over 5.\n",
        "\n",
        "\n",
        "\n",
        "\n",
        "\n"
      ]
    },
    {
      "cell_type": "markdown",
      "metadata": {
        "id": "TMXaSUFuQ97D"
      },
      "source": [
        "**Observation on Food Preparation Time**"
      ]
    },
    {
      "cell_type": "code",
      "execution_count": 19,
      "metadata": {
        "colab": {
          "base_uri": "https://localhost:8080/",
          "height": 898
        },
        "id": "jkiqJUNtRGQF",
        "outputId": "a3665bb2-29b3-4f62-d172-ebb4607cf074"
      },
      "outputs": [
        {
          "data": {
            "image/png": "[encoded data removed]",
            "text/plain": [
              "<Figure size 1000x500 with 1 Axes>"
            ]
          },
          "metadata": {},
          "output_type": "display_data"
        },
        {
          "data": {
            "image/png": "[encoded data removed]",
            "text/plain": [
              "<Figure size 640x480 with 1 Axes>"
            ]
          },
          "metadata": {},
          "output_type": "display_data"
        }
      ],
      "source": [
        "plt.figure(figsize = (10,5))\n",
        "sns.histplot(data=df,x='food_preparation_time')\n",
        "plt.show()\n",
        "sns.boxplot(data=df,x='food_preparation_time')\n",
        "plt.show()"
      ]
    },
    {
      "cell_type": "markdown",
      "metadata": {
        "id": "ZShbXnnuR6m_"
      },
      "source": [
        "Observations:\n",
        "\n",
        "\n",
        "*   50% of the orders took at least 27 min to be prepared.\n",
        "*   The distribution is neither left nor right skewed.\n",
        "\n",
        "*   There are 4 different times that occur most among food preparation times.\n",
        "*   That might be because of different cuisines ordered and the time taken for each type.\n",
        "\n",
        "\n",
        "\n"
      ]
    },
    {
      "cell_type": "markdown",
      "metadata": {
        "id": "4G7sbS9STv21"
      },
      "source": [
        "**Observation on Delivery Time**"
      ]
    },
    {
      "cell_type": "code",
      "execution_count": 20,
      "metadata": {
        "colab": {
          "base_uri": "https://localhost:8080/",
          "height": 898
        },
        "id": "vctJqZZVT3PL",
        "outputId": "09e2bd8f-8ce2-4494-f77a-0fad1c1423a4"
      },
      "outputs": [
        {
          "data": {
            "image/png": "[encoded data removed]",
            "text/plain": [
              "<Figure size 1000x500 with 1 Axes>"
            ]
          },
          "metadata": {},
          "output_type": "display_data"
        },
        {
          "data": {
            "image/png": "[encoded data removed]",
            "text/plain": [
              "<Figure size 640x480 with 1 Axes>"
            ]
          },
          "metadata": {},
          "output_type": "display_data"
        }
      ],
      "source": [
        "plt.figure(figsize = (10,5))\n",
        "sns.histplot(data=df,x='delivery_time')\n",
        "plt.show()\n",
        "\n",
        "sns.boxplot(data=df,x='delivery_time')\n",
        "plt.show()"
      ]
    },
    {
      "cell_type": "markdown",
      "metadata": {
        "id": "pcIweuNKV2Ez"
      },
      "source": [
        "Observations:\n",
        "\n",
        "*   The distribution is slightly skewed to the left.\n",
        "*   50% of the orders delivered within 25 minutes.\n",
        "*   Other 50% of the orders delivered between 25 and 33 minutes.\n",
        "\n",
        "\n",
        "\n",
        "\n"
      ]
    },
    {
      "cell_type": "markdown",
      "metadata": {
        "id": "h2YOjOrbXdbL"
      },
      "source": [
        "Now, lets check the distribution for other columns."
      ]
    },
    {
      "cell_type": "markdown",
      "metadata": {
        "id": "60jUWppAXktE"
      },
      "source": [
        "**Observation on Order ID**"
      ]
    },
    {
      "cell_type": "code",
      "execution_count": 21,
      "metadata": {
        "colab": {
          "base_uri": "https://localhost:8080/"
        },
        "id": "Qky1EAk5XuQz",
        "outputId": "babd1844-fb9b-4de0-e60b-e281fef35479"
      },
      "outputs": [
        {
          "data": {
            "text/plain": [
              "1898"
            ]
          },
          "execution_count": 21,
          "metadata": {},
          "output_type": "execute_result"
        }
      ],
      "source": [
        "\n",
        "# check unique order ID\n",
        "df['order_id'].nunique()"
      ]
    },
    {
      "cell_type": "markdown",
      "metadata": {
        "id": "YM6JBNlmX9Kr"
      },
      "source": [
        "There are 1898 unique order IDs in order_id column."
      ]
    },
    {
      "cell_type": "markdown",
      "metadata": {
        "id": "Osia1zJ7YPW0"
      },
      "source": [
        "**Observation on Customer ID**"
      ]
    },
    {
      "cell_type": "code",
      "execution_count": 22,
      "metadata": {
        "colab": {
          "base_uri": "https://localhost:8080/"
        },
        "id": "zGKC3M4IYUv7",
        "outputId": "22b8380e-2cd5-4ab5-9149-456992d0dd75"
      },
      "outputs": [
        {
          "data": {
            "text/plain": [
              "1200"
            ]
          },
          "execution_count": 22,
          "metadata": {},
          "output_type": "execute_result"
        }
      ],
      "source": [
        "# check unique customer ID\n",
        "df['customer_id'].nunique()"
      ]
    },
    {
      "cell_type": "markdown",
      "metadata": {
        "id": "Iwe0auF5ZP0O"
      },
      "source": [
        "\n",
        "\n",
        "*  There are 1200 unique customer IDs in customer_id column.\n",
        "*  1200 unique customers used the app to order the food."
      ]
    },
    {
      "cell_type": "markdown",
      "metadata": {
        "id": "2FO1LXuzZqZb"
      },
      "source": [
        "**Observation on Restaurant Name**"
      ]
    },
    {
      "cell_type": "code",
      "execution_count": 23,
      "metadata": {
        "colab": {
          "base_uri": "https://localhost:8080/"
        },
        "id": "If9AGe6_ZzkU",
        "outputId": "9ff0343f-39cf-41ae-f6b8-296f0261f1d2"
      },
      "outputs": [
        {
          "data": {
            "text/plain": [
              "178"
            ]
          },
          "execution_count": 23,
          "metadata": {},
          "output_type": "execute_result"
        }
      ],
      "source": [
        "# check unique restaurant name\n",
        "df['restaurant_name'].nunique()"
      ]
    },
    {
      "cell_type": "markdown",
      "metadata": {
        "id": "_fevdgxRaWUv"
      },
      "source": [
        "\n",
        "\n",
        "*   There are 178 unique restaurant names in restaurant_name column.\n",
        "\n",
        "*   Customers ordered food from 178 different restaurants by using the app.\n",
        "\n",
        "\n",
        "\n",
        "\n",
        "\n",
        "\n",
        "\n",
        "\n"
      ]
    },
    {
      "cell_type": "markdown",
      "metadata": {
        "id": "mZueSgMWajmj"
      },
      "source": [
        "**Observation on Cuisine Type**"
      ]
    },
    {
      "cell_type": "code",
      "execution_count": 24,
      "metadata": {
        "colab": {
          "base_uri": "https://localhost:8080/"
        },
        "id": "9DDEbLBoarEG",
        "outputId": "90f688be-5a76-45f4-b61d-ba375ceddff8"
      },
      "outputs": [
        {
          "data": {
            "text/plain": [
              "14"
            ]
          },
          "execution_count": 24,
          "metadata": {},
          "output_type": "execute_result"
        }
      ],
      "source": [
        "# Check unique cuisine type\n",
        "df['cuisine_type'].nunique()"
      ]
    },
    {
      "cell_type": "markdown",
      "metadata": {
        "id": "UfXiSUT1a346"
      },
      "source": [
        "\n",
        "\n",
        "*  There are 14 unique cuisine types in cuisine_type column."
      ]
    },
    {
      "cell_type": "code",
      "execution_count": 25,
      "metadata": {
        "colab": {
          "base_uri": "https://localhost:8080/",
          "height": 465
        },
        "id": "yhs0mTs3bPQx",
        "outputId": "e4a717db-e94b-40f1-a60f-19ab122af259"
      },
      "outputs": [
        {
          "data": {
            "image/png": "[encoded data removed]",
            "text/plain": [
              "<Figure size 1500x500 with 1 Axes>"
            ]
          },
          "metadata": {},
          "output_type": "display_data"
        }
      ],
      "source": [
        "# let's plot box plot for cuisine types.\n",
        "plt.figure(figsize = (15,5))\n",
        "sns.countplot(data = df, x = 'cuisine_type')\n",
        "plt.show()"
      ]
    },
    {
      "cell_type": "markdown",
      "metadata": {
        "id": "40q8rgqocOgT"
      },
      "source": [
        "Observations:\n",
        "\n",
        "*   The most favorite (ordered) cuisine is \"American\" followed by \"Japanese\" and \"Italian\"."
      ]
    },
    {
      "cell_type": "markdown",
      "metadata": {
        "id": "Seli_vALctgE"
      },
      "source": [
        "**Observation on Days of the Week.**"
      ]
    },
    {
      "cell_type": "code",
      "execution_count": 26,
      "metadata": {
        "colab": {
          "base_uri": "https://localhost:8080/"
        },
        "id": "ybFJFvjddHe6",
        "outputId": "fca80112-3e94-4c85-b940-a0dad3b888e5"
      },
      "outputs": [
        {
          "data": {
            "text/plain": [
              "array(['Weekend', 'Weekday'], dtype=object)"
            ]
          },
          "execution_count": 26,
          "metadata": {},
          "output_type": "execute_result"
        }
      ],
      "source": [
        "# check the unique values\n",
        "df['day_of_the_week'].unique()"
      ]
    },
    {
      "cell_type": "code",
      "execution_count": 27,
      "metadata": {
        "colab": {
          "base_uri": "https://localhost:8080/"
        },
        "id": "e0EaXvvJef3J",
        "outputId": "b9877ee5-0cb8-452f-a1c2-e01e3e2df2f0"
      },
      "outputs": [
        {
          "data": {
            "text/plain": [
              "2"
            ]
          },
          "execution_count": 27,
          "metadata": {},
          "output_type": "execute_result"
        }
      ],
      "source": [
        "# check the unique values\n",
        "df['day_of_the_week'].nunique()"
      ]
    },
    {
      "cell_type": "markdown",
      "metadata": {
        "id": "GcRhVCA8etrZ"
      },
      "source": [
        "There are two unique values in day_of_the_week column that are 'Weekend' and 'Weekday'."
      ]
    },
    {
      "cell_type": "code",
      "execution_count": 28,
      "metadata": {
        "colab": {
          "base_uri": "https://localhost:8080/",
          "height": 450
        },
        "id": "kPwaIvnOdyGT",
        "outputId": "e40db85b-49f2-4ae4-89e9-647ba6760465"
      },
      "outputs": [
        {
          "data": {
            "image/png": "[encoded data removed]",
            "text/plain": [
              "<Figure size 640x480 with 1 Axes>"
            ]
          },
          "metadata": {},
          "output_type": "display_data"
        }
      ],
      "source": [
        "# plot box plot for days of the week\n",
        "sns.countplot(data = df, x = 'day_of_the_week')\n",
        "plt.show()"
      ]
    },
    {
      "cell_type": "markdown",
      "metadata": {
        "id": "RhVE8ybBeRJq"
      },
      "source": [
        "\n",
        "\n",
        "*  Mostly, orders are given on weekend days.\n",
        "\n",
        "\n",
        "* Number of the orders given on weekend is significantly higher than the number\n",
        "of the orders given on weekdays."
      ]
    },
    {
      "cell_type": "code",
      "execution_count": 29,
      "metadata": {
        "colab": {
          "base_uri": "https://localhost:8080/"
        },
        "id": "4m3hpYMBgS8D",
        "outputId": "9a7c7237-7357-4388-f1e2-9860918e0c5e"
      },
      "outputs": [
        {
          "data": {
            "text/plain": [
              "(1351, 9)"
            ]
          },
          "execution_count": 29,
          "metadata": {},
          "output_type": "execute_result"
        }
      ],
      "source": [
        "# find number of the orders given on weekend\n",
        "df.loc[df['day_of_the_week']=='Weekend'].shape"
      ]
    },
    {
      "cell_type": "markdown",
      "metadata": {
        "id": "XHxMAHO3hEGy"
      },
      "source": [
        "\n",
        "\n",
        "* 1351 out of 1898 orders are given on weekend.\n"
      ]
    },
    {
      "cell_type": "markdown",
      "metadata": {
        "id": "K9CqA5H_JY_U"
      },
      "source": [
        "### **Question 7**: Which are the top 5 restaurants in terms of the number of orders received? [1 mark]"
      ]
    },
    {
      "cell_type": "code",
      "execution_count": 30,
      "metadata": {
        "id": "PaJZ3wlOJY_U"
      },
      "outputs": [],
      "source": [
        "# Group by 'restaurant_name' and count the number of occurrences\n",
        "restaurant_counts = df['restaurant_name'].value_counts()\n",
        "\n",
        "# Sort the restaurant counts in descending order and select the top 5\n",
        "top_restaurants = restaurant_counts.head(5)\n"
      ]
    },
    {
      "cell_type": "code",
      "execution_count": 31,
      "metadata": {
        "colab": {
          "base_uri": "https://localhost:8080/"
        },
        "id": "e0GOzmAZkaO7",
        "outputId": "6902bd65-dc4b-46d6-a5f0-85b6f030ac77"
      },
      "outputs": [
        {
          "name": "stdout",
          "output_type": "stream",
          "text": [
            "Top 5 restaurants in terms of number of orders:\n",
            "Shake Shack: 219 orders\n",
            "The Meatball Shop: 132 orders\n",
            "Blue Ribbon Sushi: 119 orders\n",
            "Blue Ribbon Fried Chicken: 96 orders\n",
            "Parm: 68 orders\n"
          ]
        }
      ],
      "source": [
        "# Print the top 5 restaurants and their corresponding order counts\n",
        "print(\"Top 5 restaurants in terms of number of orders:\")\n",
        "for restaurant, count in top_restaurants.items():\n",
        "    print(f\"{restaurant}: {count} orders\")\n"
      ]
    },
    {
      "cell_type": "markdown",
      "metadata": {
        "id": "tnjhWgUfJY_U"
      },
      "source": [
        "#### Observations:\n",
        "\n",
        "*   Names of the first five restaurants, with respect to the number of the orders they received, are Shake Shack (219 orders), The Meatball Shop (132 orders), Blue Ribbon Sushi (119 orders), Blue Ribbon Fried Chicken (96 orders) and Parm (68 orders)\n",
        "\n",
        "*  The top restaurant's order number is 219 followed by 132, 119, 96 and 6\n",
        "which are not very high when we compare with total number of the orders that is 1898 .\n",
        "This information reveal that customers ordered from large range of the restaurants.\n"
      ]
    },
    {
      "cell_type": "markdown",
      "metadata": {
        "id": "gWPMqGq0JY_U"
      },
      "source": [
        "### **Question 8**: Which is the most popular cuisine on weekends? [1 mark]"
      ]
    },
    {
      "cell_type": "code",
      "execution_count": 32,
      "metadata": {
        "colab": {
          "base_uri": "https://localhost:8080/"
        },
        "id": "c-Xnus3VJY_U",
        "outputId": "4706e209-7c12-4073-d6da-e7e4ac41315f"
      },
      "outputs": [
        {
          "data": {
            "text/plain": [
              "cuisine_type\n",
              "American    415\n",
              "Japanese    335\n",
              "Italian     207\n",
              "Name: count, dtype: int64"
            ]
          },
          "execution_count": 32,
          "metadata": {},
          "output_type": "execute_result"
        }
      ],
      "source": [
        "# Find most popular cuisine on weekends\n",
        "df[df['day_of_the_week']=='Weekend']['cuisine_type'].value_counts().head(3)"
      ]
    },
    {
      "cell_type": "markdown",
      "metadata": {
        "id": "bpQ270TUJY_U"
      },
      "source": [
        "#### Observations:\n",
        "Most popular cuisine on weekends is 'American' cuisine, followed by Japanese and Italian cuisines.\n"
      ]
    },
    {
      "cell_type": "markdown",
      "metadata": {
        "id": "88xgTqkxJY_U"
      },
      "source": [
        "### **Question 9**: What percentage of the orders cost more than 20 dollars? [2 marks]"
      ]
    },
    {
      "cell_type": "code",
      "execution_count": 33,
      "metadata": {
        "colab": {
          "base_uri": "https://localhost:8080/"
        },
        "id": "OTpHyTdzJY_U",
        "outputId": "1a99fa51-f87c-45fc-b4ab-0778a1a9af90"
      },
      "outputs": [
        {
          "name": "stdout",
          "output_type": "stream",
          "text": [
            "The percentage of orders that cost more than $20 is 29.24 %.\n"
          ]
        }
      ],
      "source": [
        "\n",
        "\n",
        "# Calculate the total number of orders\n",
        "total_orders = len(df)\n",
        "\n",
        "# Calculate the number of orders that cost more than 20 dollars\n",
        "orders_above_20 = len(df[df['cost_of_the_order'] > 20])\n",
        "\n",
        "# Calculate the percentage of orders that cost more than 20 dollars\n",
        "percentage_above_20 = (orders_above_20 / total_orders) * 100\n",
        "\n",
        "# Print the percentage of orders that cost more than 20 dollars\n",
        "print(\"The percentage of orders that cost more than $20 is\", round(percentage_above_20,2), \"%.\")\n"
      ]
    },
    {
      "cell_type": "markdown",
      "metadata": {
        "id": "77KNAC5zJY_U"
      },
      "source": [
        "#### Observations:\n",
        "Only about 30% of the orders cost more than 20 dollars.\n",
        "That means majority of the orders, about 70% , cost less than 20 dollars.\n"
      ]
    },
    {
      "cell_type": "markdown",
      "metadata": {
        "id": "HFyHn7hsJY_V"
      },
      "source": [
        "### **Question 10**: What is the mean order delivery time? [1 mark]"
      ]
    },
    {
      "cell_type": "code",
      "execution_count": 34,
      "metadata": {
        "colab": {
          "base_uri": "https://localhost:8080/"
        },
        "id": "6L8ZU1xvb43i",
        "outputId": "d51c2020-32de-4032-f682-d152c978fe50"
      },
      "outputs": [
        {
          "name": "stdout",
          "output_type": "stream",
          "text": [
            "The mean order delivery time is 24.16 minutes.\n"
          ]
        }
      ],
      "source": [
        "# Calculate the mean order delivery time\n",
        "mean_delivery_time = df['delivery_time'].mean()\n",
        "\n",
        "print('The mean order delivery time is', round(mean_delivery_time, 2), 'minutes.')"
      ]
    },
    {
      "cell_type": "markdown",
      "metadata": {
        "id": "F35SRV-HJY_V"
      },
      "source": [
        "#### Observations:\n",
        "The average delivery time for orders is about 24 min.\n"
      ]
    },
    {
      "cell_type": "markdown",
      "metadata": {
        "id": "48IjaOuDJY_V"
      },
      "source": [
        "### **Question 11:** The company has decided to give 20% discount vouchers to the top 3 most frequent customers. Find the IDs of these customers and the number of orders they placed. [1 mark]"
      ]
    },
    {
      "cell_type": "code",
      "execution_count": 35,
      "metadata": {
        "colab": {
          "base_uri": "https://localhost:8080/"
        },
        "id": "Hz8-DE4Zge0j",
        "outputId": "27722531-4e8f-4571-e3fe-8f94ab0d1edf"
      },
      "outputs": [
        {
          "name": "stdout",
          "output_type": "stream",
          "text": [
            "Top 3 most frequent customers:\n",
            "Customer ID: 52832 , Order Count: 13\n",
            "Customer ID: 47440 , Order Count: 10\n",
            "Customer ID: 83287 , Order Count: 9\n"
          ]
        }
      ],
      "source": [
        "\n",
        "# Group the dataframe by 'customer_id' and count the number of orders for each customer\n",
        "customer_order_counts = df['customer_id'].value_counts()\n",
        "\n",
        "# Select the top 3 customers with the highest order counts\n",
        "top_customers = customer_order_counts.head(3)\n",
        "\n",
        "# Print the IDs of the top 3 customers and their corresponding order counts\n",
        "print(\"Top 3 most frequent customers:\")\n",
        "for customer_id, order_count in top_customers.items():\n",
        "    print(\"Customer ID:\", customer_id,\",\" ,\"Order Count:\", order_count)\n"
      ]
    },
    {
      "cell_type": "markdown",
      "metadata": {
        "id": "9tWVwfX6JY_V"
      },
      "source": [
        "#### Observations:\n",
        "\n",
        "\n",
        "*   Order counts for customers who earned 20% discount voucher are 13,10 and 9 in order. These numbers are not very high when we compare with the total number of the orders given. We need more information about in which time interval the data was collected.\n",
        "\n",
        "\n",
        "*   The frequency of using the app by customers can be increased by other promotions. For example; giving voucher to customers who has highest 5 (or 10) order number or whose total cost of orders is higher than 50 dollars.\n"
      ]
    },
    {
      "cell_type": "markdown",
      "metadata": {
        "id": "AfIc2jPaJY_V"
      },
      "source": [
        "### Multivariate Analysis"
      ]
    },
    {
      "cell_type": "markdown",
      "metadata": {
        "id": "iqiS0RT_JY_V"
      },
      "source": [
        "### **Question 12**: Perform a multivariate analysis to explore relationships between the important variables in the dataset. (It is a good idea to explore relations between numerical variables as well as relations between numerical and categorical variables) [10 marks]\n",
        "\n",
        "\n",
        "\n",
        "\n",
        "\n",
        "\n",
        "\n",
        "\n"
      ]
    },
    {
      "cell_type": "markdown",
      "metadata": {
        "id": "YLqDXLS-ixwg"
      },
      "source": [
        "**Relationship between Cuisine Type and Cost of the Order**\n",
        "\n",
        "\n",
        "\n",
        "\n",
        "\n"
      ]
    },
    {
      "cell_type": "code",
      "execution_count": 36,
      "metadata": {
        "colab": {
          "base_uri": "https://localhost:8080/",
          "height": 534
        },
        "id": "3qt4MCNTJY_V",
        "outputId": "db1abc00-69bb-40f9-aa25-f7e1dc0bad26"
      },
      "outputs": [
        {
          "data": {
            "image/png": "[encoded data removed]",
            "text/plain": [
              "<Figure size 1500x500 with 1 Axes>"
            ]
          },
          "metadata": {},
          "output_type": "display_data"
        }
      ],
      "source": [
        "plt.figure(figsize=(15,5))\n",
        "sns.boxplot(data=df, x = \"cuisine_type\", y = \"cost_of_the_order\")\n",
        "plt.xticks(rotation = 45)\n",
        "plt.show()"
      ]
    },
    {
      "cell_type": "markdown",
      "metadata": {
        "id": "T1yXLetwmuCP"
      },
      "source": [
        "Observations:\n",
        "\n",
        "*   French cuisine has the highest median cost ( 20 dollars) for the orders.\n",
        "The cost range for Southern cuisine is larger than others.\n",
        "\n",
        "*  The cost range for Southern cuisine is larger than others.\n",
        "\n",
        "*  Although median cost for Mediterranean cuisine is not high, there are some foods that has the highest cost.\n"
      ]
    },
    {
      "cell_type": "markdown",
      "metadata": {
        "id": "tez-ZXTXk0_x"
      },
      "source": [
        "**Relationship between Cuisine Type and Food Preparation Time**\n"
      ]
    },
    {
      "cell_type": "code",
      "execution_count": 37,
      "metadata": {
        "colab": {
          "base_uri": "https://localhost:8080/",
          "height": 534
        },
        "id": "sg8s5uanlamE",
        "outputId": "262005cd-9950-4544-9000-6c23e8828b5e"
      },
      "outputs": [
        {
          "data": {
            "image/png": "[encoded data removed]",
            "text/plain": [
              "<Figure size 1500x500 with 1 Axes>"
            ]
          },
          "metadata": {},
          "output_type": "display_data"
        }
      ],
      "source": [
        "plt.figure(figsize=(15,5))\n",
        "sns.boxplot(data=df, x = \"cuisine_type\", y = \"food_preparation_time\")\n",
        "plt.xticks(rotation = 45)\n",
        "plt.show()"
      ]
    },
    {
      "cell_type": "code",
      "execution_count": null,
      "metadata": {
        "id": "gYo4KP59u47n"
      },
      "outputs": [],
      "source": []
    },
    {
      "cell_type": "markdown",
      "metadata": {
        "id": "xnPSLtcKmizp"
      },
      "source": [
        "Observations:\n",
        "\n",
        "\n",
        "*   Although for some cuisines such as Thai, median food preparation time is slightly higher, median food preparation time for  cuisines are close to each other. That suggests type of the cuisine do not play a crucial role on the time taken to prepare the food ordered."
      ]
    },
    {
      "cell_type": "markdown",
      "metadata": {
        "id": "8R6sTn_9qSwB"
      },
      "source": [
        "**Relation between Day of the Week and Delivery Time**"
      ]
    },
    {
      "cell_type": "code",
      "execution_count": 38,
      "metadata": {
        "colab": {
          "base_uri": "https://localhost:8080/",
          "height": 465
        },
        "id": "lNPNg2-GqgmW",
        "outputId": "62e892da-8c3d-42c6-fb2c-e7a337444551"
      },
      "outputs": [
        {
          "data": {
            "image/png": "[encoded data removed]",
            "text/plain": [
              "<Figure size 1000x500 with 1 Axes>"
            ]
          },
          "metadata": {},
          "output_type": "display_data"
        }
      ],
      "source": [
        "plt.figure(figsize=(10,5))\n",
        "sns.boxplot(data=df, x = \"day_of_the_week\", y = \"delivery_time\")\n",
        "plt.show()"
      ]
    },
    {
      "cell_type": "markdown",
      "metadata": {
        "id": "XMeGEAvWrAOj"
      },
      "source": [
        "Observations:\n",
        "\n",
        "\n",
        "*   Median delivery time on weekdays (28 min) is higher than median delivery time on weekend (22 min).\n",
        "On weekend, ordered food is delivered faster than the weekdays."
      ]
    },
    {
      "cell_type": "markdown",
      "metadata": {
        "id": "tbjR6-z1sLGv"
      },
      "source": [
        "**Relation between Rating and Delivery Time**"
      ]
    },
    {
      "cell_type": "code",
      "execution_count": 39,
      "metadata": {
        "colab": {
          "base_uri": "https://localhost:8080/",
          "height": 465
        },
        "id": "1RO3fuN6sfBu",
        "outputId": "0b396c7e-e8b5-4041-8986-55107d55466e"
      },
      "outputs": [
        {
          "data": {
            "image/png": "[encoded data removed]",
            "text/plain": [
              "<Figure size 1000x500 with 1 Axes>"
            ]
          },
          "metadata": {},
          "output_type": "display_data"
        }
      ],
      "source": [
        "plt.figure(figsize=(10, 5))\n",
        "sns.boxplot(data=df, x = 'rating', y = 'delivery_time')\n",
        "plt.show()"
      ]
    },
    {
      "cell_type": "code",
      "execution_count": 40,
      "metadata": {
        "colab": {
          "base_uri": "https://localhost:8080/",
          "height": 465
        },
        "id": "xjT4gOqTvjMl",
        "outputId": "d4e68e35-d176-40cc-ba28-e6151a7360af"
      },
      "outputs": [
        {
          "data": {
            "image/png": "[encoded data removed]",
            "text/plain": [
              "<Figure size 1000x500 with 1 Axes>"
            ]
          },
          "metadata": {},
          "output_type": "display_data"
        }
      ],
      "source": [
        "plt.figure(figsize=(10, 5))\n",
        "sns.pointplot(data=df, x = 'rating', y = 'delivery_time')\n",
        "plt.show()"
      ]
    },
    {
      "cell_type": "markdown",
      "metadata": {
        "id": "vTR80NXZt_Uf"
      },
      "source": [
        "*Observations*:\n",
        "\n",
        "\n",
        "*   Median delivery time for orders received rating 4 is slightly lower than the median delivery time for orders who received 3 and 5.\n",
        "\n",
        "*  Orders who received rating 3 had highest median delivery time.\n",
        "\n",
        "*  However the difference is not so significant and we can conlude that there is no significant relationship seen between delivery time and ratings."
      ]
    },
    {
      "cell_type": "markdown",
      "metadata": {
        "id": "gb_BO4wyuwM1"
      },
      "source": [
        "**Relationship between Rating and Food Preparation Time**"
      ]
    },
    {
      "cell_type": "code",
      "execution_count": 41,
      "metadata": {
        "colab": {
          "base_uri": "https://localhost:8080/",
          "height": 465
        },
        "id": "IsoNF6UGu8h8",
        "outputId": "b5397277-b708-41a6-86e4-a38e1aeea8e0"
      },
      "outputs": [
        {
          "data": {
            "image/png": "[encoded data removed]",
            "text/plain": [
              "<Figure size 1000x500 with 1 Axes>"
            ]
          },
          "metadata": {},
          "output_type": "display_data"
        }
      ],
      "source": [
        "plt.figure(figsize=(10, 5))\n",
        "sns.boxplot(data=df, x = 'rating', y = 'food_preparation_time')\n",
        "plt.show()\n"
      ]
    },
    {
      "cell_type": "code",
      "execution_count": 42,
      "metadata": {
        "colab": {
          "base_uri": "https://localhost:8080/",
          "height": 469
        },
        "id": "w9SvFfLfvPpb",
        "outputId": "c0b8cbb5-ce1c-443e-bc55-df2aa38f386c"
      },
      "outputs": [
        {
          "data": {
            "image/png": "[encoded data removed]",
            "text/plain": [
              "<Figure size 1000x500 with 1 Axes>"
            ]
          },
          "metadata": {},
          "output_type": "display_data"
        }
      ],
      "source": [
        "plt.figure(figsize=(10, 5))\n",
        "sns.pointplot(data=df, x = 'rating', y = 'food_preparation_time')\n",
        "plt.show()"
      ]
    },
    {
      "cell_type": "markdown",
      "metadata": {
        "id": "LcWzoyN5y57T"
      },
      "source": [
        "Observations:\n",
        "\n",
        "\n",
        "* There is no significant relation seen between food preparation time and the rating received based on the plots above.  \n",
        "  \n",
        "\n"
      ]
    },
    {
      "cell_type": "markdown",
      "metadata": {
        "id": "pycACDLKwDPX"
      },
      "source": [
        "**Relation between Rating and Cost of the Order**"
      ]
    },
    {
      "cell_type": "code",
      "execution_count": 43,
      "metadata": {
        "colab": {
          "base_uri": "https://localhost:8080/",
          "height": 465
        },
        "id": "-VzSbumdwMuO",
        "outputId": "69c29b71-d51f-47c6-c16b-a94a023b35e7"
      },
      "outputs": [
        {
          "data": {
            "image/png": "[encoded data removed]",
            "text/plain": [
              "<Figure size 1000x500 with 1 Axes>"
            ]
          },
          "metadata": {},
          "output_type": "display_data"
        }
      ],
      "source": [
        "plt.figure(figsize=(10, 5))\n",
        "sns.boxplot(data=df, x = 'rating', y = 'cost_of_the_order')\n",
        "plt.show()"
      ]
    },
    {
      "cell_type": "code",
      "execution_count": 44,
      "metadata": {
        "colab": {
          "base_uri": "https://localhost:8080/",
          "height": 465
        },
        "id": "2kEytaSRwcfR",
        "outputId": "53abc230-9b14-4cda-f1b9-bc29b220a191"
      },
      "outputs": [
        {
          "data": {
            "image/png": "[encoded data removed]",
            "text/plain": [
              "<Figure size 1000x500 with 1 Axes>"
            ]
          },
          "metadata": {},
          "output_type": "display_data"
        }
      ],
      "source": [
        "plt.figure(figsize=(10, 5))\n",
        "sns.pointplot(data=df, x = 'rating', y = 'cost_of_the_order')\n",
        "plt.show()"
      ]
    },
    {
      "cell_type": "markdown",
      "metadata": {
        "id": "WwLc-PB7zaZB"
      },
      "source": [
        "Observations:\n",
        "\n",
        "*   As cost of the order increased, the rating given for the order increased.\n",
        "\n",
        "*   Central tendecy of cost of the orders recived rating 5 is higher than the central tendecy of cost of the orders recived rating 4 and 3. Similar relation exists between orders received rating 4 and 3.\n",
        "\n",
        "\n"
      ]
    },
    {
      "cell_type": "code",
      "execution_count": 45,
      "metadata": {
        "colab": {
          "base_uri": "https://localhost:8080/"
        },
        "id": "7lcxLOINw537",
        "outputId": "d6995132-9057-4ae4-d8c9-4eadc6dafbd4"
      },
      "outputs": [
        {
          "data": {
            "text/plain": [
              "restaurant_name\n",
              "Shake Shack                             3579.530\n",
              "The Meatball Shop                       2145.210\n",
              "Blue Ribbon Sushi                       1903.950\n",
              "Blue Ribbon Fried Chicken               1662.290\n",
              "Parm                                    1112.760\n",
              "RedFarm Broadway                         965.130\n",
              "RedFarm Hudson                           921.210\n",
              "TAO                                      834.500\n",
              "Han Dynasty                              755.290\n",
              "Blue Ribbon Sushi Bar & Grill            666.620\n",
              "Rubirosa                                 660.450\n",
              "Sushi of Gari 46                         640.870\n",
              "Nobu Next Door                           623.670\n",
              "Five Guys Burgers and Fries              506.470\n",
              "Momoya                                   492.130\n",
              "Chipotle Mexican Grill $1.99 Delivery    491.690\n",
              "Blue Ribbon Sushi Izakaya                485.090\n",
              "Tamarind TriBeCa                         426.710\n",
              "Jack's Wife Freda                        416.750\n",
              "Bareburger                               399.740\n",
              "Name: cost_of_the_order, dtype: float64"
            ]
          },
          "execution_count": 45,
          "metadata": {},
          "output_type": "execute_result"
        }
      ],
      "source": [
        "# Lets find the revenue generated by restaurants and list 20 of them in descending order.\n",
        "df.groupby(['restaurant_name'])['cost_of_the_order'].sum().sort_values(ascending = False).head(20)"
      ]
    },
    {
      "cell_type": "markdown",
      "metadata": {
        "id": "ahgXppIiQILd"
      },
      "source": [
        "Observations:\n",
        "\n",
        "* The restaurant Shake Shack has the largest revenue."
      ]
    },
    {
      "cell_type": "code",
      "execution_count": 46,
      "metadata": {
        "colab": {
          "base_uri": "https://localhost:8080/",
          "height": 451
        },
        "id": "VBp064AIxT7C",
        "outputId": "5e048a3d-578d-4a46-85b5-21e375738baf"
      },
      "outputs": [
        {
          "data": {
            "image/png": "[encoded data removed]",
            "text/plain": [
              "<Figure size 1000x500 with 2 Axes>"
            ]
          },
          "metadata": {},
          "output_type": "display_data"
        }
      ],
      "source": [
        "# Plot the heatmap\n",
        "numerical_variables = ['cost_of_the_order', 'food_preparation_time', 'delivery_time','rating']\n",
        "plt.figure(figsize=(10, 5))\n",
        "sns.heatmap(data=df[numerical_variables].corr(), annot=True, vmin=-1, vmax=1,fmt=\".2f\", cmap=\"YlGnBu\")\n",
        "plt.show()"
      ]
    },
    {
      "cell_type": "markdown",
      "metadata": {
        "id": "2MqvlUblzuhz"
      },
      "source": [
        "Observations:\n",
        "\n",
        "*   There is no any strong positive or negative correlation between variables.\n",
        "\n",
        "*  Food preparation time and cost of the order have highest (weak) positive correlation (0.04) as expected.\n",
        "\n",
        "*  Rating and cost of the order also have weak positive correlation (0.03) while delivery time and cost of the order have weak negative correlation (-0.03)."
      ]
    },
    {
      "cell_type": "markdown",
      "metadata": {
        "id": "YLkMf09YJY_V"
      },
      "source": [
        "### **Question 13:** The company wants to provide a promotional offer in the advertisement of the restaurants. The condition to get the offer is that the restaurants must have a rating count of more than 50 and the average rating should be greater than 4. Find the restaurants fulfilling the criteria to get the promotional offer. [3 marks]"
      ]
    },
    {
      "cell_type": "code",
      "execution_count": 47,
      "metadata": {
        "colab": {
          "base_uri": "https://localhost:8080/"
        },
        "id": "0M_QDvbYJY_V",
        "outputId": "43e48a3d-ac35-4e40-c1b5-2ff0c5331f3a"
      },
      "outputs": [
        {
          "name": "stdout",
          "output_type": "stream",
          "text": [
            "               restaurant_name  Rating_Counts\n",
            "0                  Shake Shack            133\n",
            "1            The Meatball Shop             84\n",
            "2            Blue Ribbon Sushi             73\n",
            "3    Blue Ribbon Fried Chicken             64\n",
            "4             RedFarm Broadway             41\n",
            "..                         ...            ...\n",
            "173               Market Table              0\n",
            "174             Paul & Jimmy's              0\n",
            "175               Room Service              0\n",
            "176                  Rohm Thai              0\n",
            "177              Lamarca Pasta              0\n",
            "\n",
            "[178 rows x 2 columns]\n"
          ]
        }
      ],
      "source": [
        "\n",
        "# Create a dataframe that contain the restaurant names with their rating count\n",
        "rating_count=df.groupby(['restaurant_name'])['rating'].count().sort_values(ascending=False).reset_index()\n",
        "# Converte the 'rating' column to numeric\n",
        "rating_count['rating'] = pd.to_numeric(rating_count['rating'])\n",
        "# Rename the 'rating' column as Rating _Counts\n",
        "rating_count.rename(columns={'rating':'Rating_Counts'}, inplace=True)\n",
        "print(rating_count)\n"
      ]
    },
    {
      "cell_type": "code",
      "execution_count": 48,
      "metadata": {
        "colab": {
          "base_uri": "https://localhost:8080/"
        },
        "id": "dFZp3IdJ4JgC",
        "outputId": "0aae71a0-4bb8-4454-bd5b-f134afe00c66"
      },
      "outputs": [
        {
          "name": "stdout",
          "output_type": "stream",
          "text": [
            "                   restaurant_name  Average_Rating\n",
            "0                       'wichcraft           5.000\n",
            "1             Ravagh Persian Grill           5.000\n",
            "2    Chola Eclectic Indian Cuisine           5.000\n",
            "3                      Chote Nawab           5.000\n",
            "4                           Junoon           5.000\n",
            "..                             ...             ...\n",
            "151                       Woorijip           3.000\n",
            "152              Byblos Restaurant           3.000\n",
            "153                    Pepe Giallo           3.000\n",
            "154                   Sushi Choshi           3.000\n",
            "155                Sarabeth's West           3.000\n",
            "\n",
            "[156 rows x 2 columns]\n"
          ]
        }
      ],
      "source": [
        "# Create a dataframe that contain the restaurant names and their average rating\n",
        "average_rating=df.groupby(['restaurant_name'])['rating'].mean().dropna().sort_values(ascending=False).reset_index()\n",
        "# Rename the 'rating' column as Average_Rating\n",
        "average_rating.rename(columns={'rating':'Average_Rating'}, inplace=True)\n",
        "print(average_rating)"
      ]
    },
    {
      "cell_type": "code",
      "execution_count": 49,
      "metadata": {
        "colab": {
          "base_uri": "https://localhost:8080/"
        },
        "id": "Mk60Czhd1ONV",
        "outputId": "5cbae494-7acc-4ebf-aa55-71efccce3f67"
      },
      "outputs": [
        {
          "name": "stdout",
          "output_type": "stream",
          "text": [
            "             restaurant_name  Rating_Counts  Average_Rating\n",
            "0                Shake Shack            133           4.278\n",
            "1          The Meatball Shop             84           4.512\n",
            "2          Blue Ribbon Sushi             73           4.219\n",
            "3  Blue Ribbon Fried Chicken             64           4.328\n"
          ]
        }
      ],
      "source": [
        "# Merge the dataframes based on a common column 'restaurant_name'\n",
        "merged_df = pd.merge(rating_count,average_rating, on='restaurant_name')\n",
        "\n",
        "# Extract data based on conditions\n",
        "promotional_restaurants = merged_df[(merged_df['Rating_Counts'] > 50) & (merged_df['Average_Rating'] >4)]\n",
        "\n",
        "# Print the filtered dataframe\n",
        "print(promotional_restaurants)"
      ]
    },
    {
      "cell_type": "markdown",
      "metadata": {
        "id": "10uryUMhJY_V"
      },
      "source": [
        "#### Observations:\n",
        "\n",
        "*  There are four restaurants that met the criteria to get the promotional offer.\n",
        "*  Names of these restaurants are Shake Shack, The Meatball Shop, Blue ribbon Sushi and Blue Ribbon Fried Chicken.\n"
      ]
    },
    {
      "cell_type": "markdown",
      "metadata": {
        "id": "1gvWBkRUJY_V"
      },
      "source": [
        "### **Question 14:** The company charges the restaurant 25% on the orders having cost greater than 20 dollars and 15% on the orders having cost greater than 5 dollars. Find the net revenue generated by the company across all orders. [3 marks]"
      ]
    },
    {
      "cell_type": "code",
      "execution_count": 50,
      "metadata": {
        "colab": {
          "base_uri": "https://localhost:8080/"
        },
        "id": "rEjbnTNEJY_W",
        "outputId": "385c5e16-a2e6-4de4-9496-0d0755050072"
      },
      "outputs": [
        {
          "name": "stdout",
          "output_type": "stream",
          "text": [
            "The net revenue generated by the company is $ 6166.3\n"
          ]
        }
      ],
      "source": [
        "# Calculate the revenue for orders with cost greater than $20\n",
        "revenue_20 = df[df['cost_of_the_order'] > 20]['cost_of_the_order'].sum() * 0.25\n",
        "\n",
        "# Calculate the revenue for orders with cost greater than $5 (excluding those greater than $20)\n",
        "revenue_5 = df[(df['cost_of_the_order'] > 5) & (df['cost_of_the_order'] <= 20)]['cost_of_the_order'].sum() * 0.15\n",
        "\n",
        "# Calculate the total net revenue generated\n",
        "net_revenue = revenue_20 + revenue_5\n",
        "\n",
        "# Print the net revenue\n",
        "print(\"The net revenue generated by the company is $\",round(net_revenue,2))\n"
      ]
    },
    {
      "cell_type": "markdown",
      "metadata": {
        "id": "XHCEJgH0JY_W"
      },
      "source": [
        "#### Observations:\n",
        "\n",
        "\n",
        "*  The net revenue generated by company is $ 6166.3\n"
      ]
    },
    {
      "cell_type": "markdown",
      "metadata": {
        "id": "pRlVW-oeJY_W"
      },
      "source": [
        "### **Question 15:** The company wants to analyze the total time required to deliver the food. What percentage of orders take more than 60 minutes to get delivered from the time the order is placed? (The food has to be prepared and then delivered.) [2 marks]"
      ]
    },
    {
      "cell_type": "code",
      "execution_count": 51,
      "metadata": {
        "colab": {
          "base_uri": "https://localhost:8080/"
        },
        "id": "zxoTrxfLJY_W",
        "outputId": "67cac05e-7079-4353-febb-118e0c6fa892"
      },
      "outputs": [
        {
          "name": "stdout",
          "output_type": "stream",
          "text": [
            "The percentage of orders taking more than 60 minutes to deliver is: 10.54 %\n"
          ]
        }
      ],
      "source": [
        "# Assuming your dataframe is named 'df' and contains a column 'delivery_time'\n",
        "df['total_delivery_time']=df['food_preparation_time'] + df['delivery_time']\n",
        "\n",
        "# Calculate the percentage of orders that take more than 60 minutes to deliver\n",
        "percentage = (df[df['total_delivery_time'] > 60]['total_delivery_time'].count() / df['total_delivery_time'].count()) * 100\n",
        "\n",
        "# Print the percentage\n",
        "print(\"The percentage of orders taking more than 60 minutes to deliver is:\", round(percentage,2),\"%\")"
      ]
    },
    {
      "cell_type": "markdown",
      "metadata": {
        "id": "iqzBXn2yJY_W"
      },
      "source": [
        "#### Observations:\n",
        "\n",
        "\n",
        "*   10.54 % of the orders take more than 60 minutes to deliver."
      ]
    },
    {
      "cell_type": "markdown",
      "metadata": {
        "id": "bUd6cYpPJY_W"
      },
      "source": [
        "### **Question 16:** The company wants to analyze the delivery time of the orders on weekdays and weekends. How does the mean delivery time vary during weekdays and weekends? [2 marks]"
      ]
    },
    {
      "cell_type": "code",
      "execution_count": 53,
      "metadata": {
        "colab": {
          "base_uri": "https://localhost:8080/"
        },
        "id": "pIU5xZZ6JY_W",
        "outputId": "7059cb91-49be-438d-9ce6-ffde81481f9a"
      },
      "outputs": [
        {
          "name": "stdout",
          "output_type": "stream",
          "text": [
            "day_of_the_week\n",
            "Weekday   28.000\n",
            "Weekend   22.000\n",
            "Name: delivery_time, dtype: float64\n"
          ]
        }
      ],
      "source": [
        "# Group the data by day of the week and calculate the mean delivery time\n",
        "mean_delivery_time=df.groupby(['day_of_the_week'])['delivery_time'].mean().round()\n",
        "# Print the mean delivery time for weekdays and weekends\n",
        "print(mean_delivery_time)"
      ]
    },
    {
      "cell_type": "markdown",
      "metadata": {
        "id": "8H-ODxbVJY_W"
      },
      "source": [
        "#### Observations:\n",
        "\n",
        "*   On average, delivering orders on weekdays take 6 min longer than delivering orders on weekend.\n",
        "\n",
        "\n",
        "*   The average delivery time for orders on the weekday (28 min) is 6 min longer than average delivery time on weekend (22 min).\n",
        "\n",
        "\n"
      ]
    },
    {
      "cell_type": "markdown",
      "metadata": {
        "id": "17roJywaJY_W"
      },
      "source": [
        "### Conclusion and Recommendations"
      ]
    },
    {
      "cell_type": "markdown",
      "metadata": {
        "id": "ZdX2Wz4FJY_W"
      },
      "source": [
        "### **Question 17:** What are your conclusions from the analysis? What recommendations would you like to share to help improve the business? (You can use cuisine type and feedback ratings to drive your business recommendations.) [6 marks]"
      ]
    },
    {
      "cell_type": "markdown",
      "metadata": {
        "id": "VTugVsL4Ddz-"
      },
      "source": [
        "### Conclusions:\n",
        "*  Customers have a higher preference for American cuisine compared to other cuisines.Understanding customer preferences for different cuisines can be valuable for the company as it helps them make informed decisions such as optimizing restaurant partnerships, enhancing menu offerings, and providing personalized recommendations to customers.\n",
        "\n",
        "*   The number of orders given on weekends is significantly higher than the number of orders given on weekdays. This observation suggests a higher demand for food delivery or online orders during weekends compared to weekdays.\n",
        "Understanding the variation in order volumes between weekdays and weekends can assist the company in several ways. It enables the company to allocate appropriate resources and staffing levels, optimize delivery logistics, and plan promotional offers or campaigns to maximize customer satisfaction and revenue during peak demand periods.\n",
        "\n",
        "*   Customers have ordered from a wide range of restaurants. This suggests that the food aggregator platform has a diverse selection of restaurants available for customers to choose from, catering to various culinary preferences.\n",
        "Having a large range of restaurants can be beneficial for the company, as it provides customers with a wide variety of options and increases customer satisfaction by offering a diverse dining experience.\n",
        "\n",
        "*   As the cost of the order increased, the rating given for the order also increased. This indicates a positive relationship between the cost of the order and the rating received. Customers tend to give higher ratings to orders with higher costs, suggesting that they perceive higher-priced orders as having better quality or value.\n"
      ]
    },
    {
      "cell_type": "markdown",
      "metadata": {
        "id": "PWnsI0i_guWJ"
      },
      "source": [
        "### Recommendations:\n",
        "\n",
        "*   Enhance Personalized Recommendations: Utilize the available customer data, including past orders and preferences, to develop a recommendation system that suggests relevant restaurants and cuisines to individual customers. This can improve customer experience and increase order frequency.\n",
        "\n",
        "*   Collaborate with Popular Restaurants: Establish strong partnerships with popular restaurants with high order volumes that are 'Shake Shack', 'The Meatball Shop', 'Blue Ribbon Sushi','Bule Ribbon Fried Chicken' and 'Parm' restaurants. This can include negotiating exclusive deals, offering promotions, and ensuring consistent quality of service from these key partners.\n",
        "\n",
        "*   Customer Sentiment Analysis:  Analyze customer reviews and feedback. There is a need for more data to gain insights into customer sentiments, identify areas of improvement, and address any recurring issues to enhance overall customer satisfaction.\n",
        "\n",
        "*   Loyalty and Referral Programs: Implement loyalty programs to reward frequent customers and referral programs to incentivize customers to refer others. This can help in customer retention, acquisition, and building a strong customer base.\n",
        "\n",
        "*   Based on the observation that the number of orders given on weekends is significantly higher than the number of orders given on weekdays, I recommend the following actions to leverage this information:\n",
        "\n",
        "    Resource Allocation and Staffing: Allocate resources and staffing levels accordingly to meet the increased demand during weekends. Ensure sufficient delivery personnel, customer support are available to handle the higher order volumes and deliver excellent service.\n",
        "\n",
        "    Optimize Delivery Logistics: Analyze and optimize the delivery logistics to handle the peak demand on weekends. Consider implementing route optimization algorithms, real-time tracking systems, and efficient dispatching methods to ensure timely deliveries and enhance customer satisfaction.\n",
        "\n",
        "    Promotional Campaigns and Offers: Leverage the higher demand on weekends by planning targeted promotional campaigns and offers. Use customer data and analytics to identify customer preferences, popular cuisines, and ordering patterns during weekends. Design attractive offers, discounts, or special menus to incentivize customers to place orders and increase revenue during these peak periods.\n",
        "\n",
        "    Enhanced Customer Support: Increase customer support availability during weekends to address any queries, concerns, or issues promptly. Ensure customers can easily reach out for assistance through multiple channels such as phone, chat, or email. Quick and efficient resolution of customer inquiries contributes to a positive customer experience.\n",
        "\n",
        "    Menu Optimization: American cuisine is the most favorite cuisine among the orders given on weekends. Highlight popular dishes, introduce limited-time specials, or collaborate with restaurants to offer exclusive weekend-only items from American cuisine. This can cater to customer preferences and further enhance the weekend ordering experience.\n",
        "\n",
        "    Customer Communication: Proactively communicate with customers about any operational changes or updates during weekends. Keep customers informed about estimated delivery times, any delays, or promotions happening during peak periods. Transparent and timely communication helps manage customer expectations and maintains a positive brand image.\n",
        "\n",
        "    Performance Monitoring and Analysis: Continuously monitor and analyze key performance indicators (KPIs) related to weekend orders. Track metrics such as order volume, delivery time, customer feedback, and revenue generated during weekends. This data-driven approach provides insights into the effectiveness of strategies and enables data-backed decision-making for continuous improvement.\n",
        "\n",
        "*   Market Expansion Analysis: Utilize more data to identify potential areas for market expansion. Analyze customer demographics, preferences, and competition in new locations to make informed decisions on entering new markets.\n",
        "\n",
        "\n"
      ]
    },
    {
      "cell_type": "markdown",
      "metadata": {
        "id": "tSoucKKbg9Hc"
      },
      "source": [
        "---"
      ]
    }
  ],
  "metadata": {
    "colab": {
      "provenance": []
    },
    "kernelspec": {
      "display_name": "Python 3 (ipykernel)",
      "language": "python",
      "name": "python3"
    },
    "language_info": {
      "codemirror_mode": {
        "name": "ipython",
        "version": 3
      },
      "file_extension": ".py",
      "mimetype": "text/x-python",
      "name": "python",
      "nbconvert_exporter": "python",
      "pygments_lexer": "ipython3",
      "version": "3.10.13"
    }
  },
  "nbformat": 4,
  "nbformat_minor": 0
}
